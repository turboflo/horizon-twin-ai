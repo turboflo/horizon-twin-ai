{
 "cells": [
  {
   "cell_type": "code",
   "execution_count": null,
   "metadata": {},
   "outputs": [],
   "source": [
    "%pip install -U sentence-transformers"
   ]
  },
  {
   "cell_type": "code",
   "execution_count": 3,
   "metadata": {},
   "outputs": [],
   "source": [
    "import csv\n",
    "from sentence_transformers import SentenceTransformer\n",
    "\n",
    "TITLE_INDEX = 3\n",
    "OBJECTIVE_INDEX = 16\n",
    "\n",
    "# Initialisieren des Modells\n",
    "model = SentenceTransformer('sentence-transformers/all-mpnet-base-v2')\n",
    "\n",
    "# Öffnen der vorhandenen CSV-Datei zum Lesen\n",
    "with open('data/HORIZON_projects.csv', mode='r') as infile:\n",
    "    reader = csv.reader(infile, delimiter=\";\")\n",
    "    # Vorbereiten einer neuen CSV-Datei zum Schreiben\n",
    "    with open('data/H2020_projects_with_embeddings.csv', mode='w', newline='') as outfile:\n",
    "        writer = csv.writer(outfile, delimiter=\";\")\n",
    "        \n",
    "        for i, line in enumerate(reader):\n",
    "            if i == 0:\n",
    "                # Hinzufügen der Spaltenüberschrift für Embeddings\n",
    "                writer.writerow(line + ['vector'])\n",
    "                continue  # Fortfahren mit der nächsten Iteration\n",
    "            \n",
    "            # Annahme: TITLE_INDEX und OBJECTIVE_INDEX sind korrekt definiert\n",
    "            document = f\"{line[TITLE_INDEX]}\\n{line[OBJECTIVE_INDEX]}\"\n",
    "            # Berechnen des Embeddings\n",
    "            embeddings = model.encode([document], show_progress_bar=False)\n",
    "            # Umwandeln des Embeddings in einen String, um ihn in der CSV zu speichern\n",
    "            embeddings_str = ','.join(map(str, embeddings[0]))\n",
    "            # Schreiben der ursprünglichen Zeile mit dem hinzugefügten Embedding\n",
    "            writer.writerow(line + [embeddings_str])"
   ]
  }
 ],
 "metadata": {
  "kernelspec": {
   "display_name": ".venv",
   "language": "python",
   "name": "python3"
  },
  "language_info": {
   "codemirror_mode": {
    "name": "ipython",
    "version": 3
   },
   "file_extension": ".py",
   "mimetype": "text/x-python",
   "name": "python",
   "nbconvert_exporter": "python",
   "pygments_lexer": "ipython3",
   "version": "3.12.0"
  }
 },
 "nbformat": 4,
 "nbformat_minor": 2
}
