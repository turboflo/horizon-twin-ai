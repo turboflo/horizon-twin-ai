{
 "cells": [
  {
   "cell_type": "code",
   "execution_count": null,
   "metadata": {},
   "outputs": [],
   "source": [
    "ID_INDEX = 0\n",
    "ACRONYM_INDEX = 1\n",
    "STATUS_INDEX = 2\n",
    "TITLE_INDEX = 3\n",
    "START_DATE_INDEX = 4\n",
    "END_DATE_INDEX = 5\n",
    "TOTAL_COST_INDEX = 6\n",
    "EC_MAX_CONTRIBUTION_INDEX = 7\n",
    "LEGAL_BASIS_INDEX = 8\n",
    "TOPICS_INDEX = 9\n",
    "EC_SIGNATURE_DATE_INDEX = 10\n",
    "FRAMEWORK_PROGRAMME_INDEX = 11\n",
    "MASTER_CALL_INDEX = 12\n",
    "SUB_CALL_INDEX = 13\n",
    "FUNDING_SCHEME_INDEX = 14\n",
    "NATURE_INDEX = 15\n",
    "OBJECTIVE_INDEX = 16\n",
    "CONTENT_UPDATE_DATE_INDEX = 17\n",
    "RCN_INDEX = 18\n",
    "GRANT_DOI_INDEX = 19"
   ]
  },
  {
   "cell_type": "code",
   "execution_count": null,
   "metadata": {},
   "outputs": [],
   "source": [
    "import csv\n",
    "\n",
    "with open('data/H2020_projects.csv') as file:\n",
    "    lines = csv.reader(file, delimiter=\";\")\n",
    "    \n",
    "    documents = []\n",
    "    metadatas = []\n",
    "    ids = []\n",
    "    \n",
    "    for i, line in enumerate(lines):\n",
    "        if i== 0:\n",
    "            # Skip the first row (the column headers)\n",
    "            continue\n",
    "        \n",
    "        document = f\"{line[TITLE_INDEX]}\\n{line[OBJECTIVE_INDEX]}\"\n",
    "        metadata = {\n",
    "            \"item_id\": line[ID_INDEX],\n",
    "            \"acronym\": line[ACRONYM_INDEX],\n",
    "            \"status\": line[STATUS_INDEX],\n",
    "            \"title\": line[TITLE_INDEX],\n",
    "            \"start_date\": line[START_DATE_INDEX],\n",
    "            \"end_date\": line[END_DATE_INDEX],\n",
    "            \"total_cost\": line[TOTAL_COST_INDEX],\n",
    "            \"ec_max_contribution\": line[EC_MAX_CONTRIBUTION_INDEX],\n",
    "            \"legal_basis\": line[LEGAL_BASIS_INDEX],\n",
    "            \"topics\": line[TOPICS_INDEX],\n",
    "            \"ec_signature_date\": line[EC_SIGNATURE_DATE_INDEX],\n",
    "            \"framework_programme\": line[FRAMEWORK_PROGRAMME_INDEX],\n",
    "            \"master_call\": line[MASTER_CALL_INDEX],\n",
    "            \"sub_call\": line[SUB_CALL_INDEX],\n",
    "            \"funding_scheme\": line[FUNDING_SCHEME_INDEX],\n",
    "            \"nature\": line[NATURE_INDEX],\n",
    "            \"objective\": line[OBJECTIVE_INDEX],\n",
    "            \"content_update_date\": line[CONTENT_UPDATE_DATE_INDEX],\n",
    "            \"rcn\": line[RCN_INDEX],\n",
    "            \"grant_doi\": line[GRANT_DOI_INDEX]\n",
    "        }\n",
    "\n",
    "        documents.append(document)\n",
    "        metadatas.append(metadata)\n",
    "        ids.append(line[ID_INDEX])\n",
    "        \n",
    "print(len(documents))\n",
    "print(len(metadatas))\n",
    "print(len(ids))"
   ]
  },
  {
   "cell_type": "code",
   "execution_count": null,
   "metadata": {},
   "outputs": [],
   "source": [
    "# Install chromadb\n",
    "%pip install chromadb\n",
    "\n",
    "# Install sentence transformers\n",
    "# This is used to convert text to vector embeddings. In other words, it converts text to a bunch of numbers that represent the 'meaning' of the text.\n",
    "%pip install -U sentence-transformers"
   ]
  },
  {
   "cell_type": "code",
   "execution_count": null,
   "metadata": {},
   "outputs": [],
   "source": [
    "# Reference: https://docs.trychroma.com/getting-started\n",
    "\n",
    "import chromadb\n",
    "from chromadb.utils import embedding_functions\n",
    "\n",
    "# Instantiate chromadb instance. Data is stored in memory only.\n",
    "# chroma_client = chromadb.Client()\n",
    "\n",
    "# Instantiate chromadb instance. Data is stored on disk (a folder named 'projects_vectordb' will be created in the same folder as this file).\n",
    "chroma_client = chromadb.PersistentClient(path=\"../database/projects_vectordb\")"
   ]
  },
  {
   "cell_type": "code",
   "execution_count": null,
   "metadata": {},
   "outputs": [],
   "source": [
    "# Select the embedding model to use.\n",
    "# List of model names can be found here https://www.sbert.net/docs/pretrained_models.html\n",
    "sentence_transformer_ef = embedding_functions.SentenceTransformerEmbeddingFunction(model_name=\"all-mpnet-base-v2\")\n",
    "\n",
    "# Use this to delete the database\n",
    "# chroma_client.delete_collection(name=\"projects_collection\")\n",
    "\n",
    "# Create the collection, aka vector database. Or, if database already exist, then use it. Specify the model that we want to use to do the embedding.\n",
    "collection = chroma_client.get_or_create_collection(name=\"projects_collection\", embedding_function=sentence_transformer_ef)"
   ]
  },
  {
   "cell_type": "code",
   "execution_count": null,
   "metadata": {},
   "outputs": [],
   "source": [
    "# Add all the data to the vector database. ChromaDB automatically converts and stores the text as vector embeddings.\n",
    "collection.add(\n",
    "    documents=documents,\n",
    "    metadatas=metadatas,\n",
    "    ids=ids\n",
    ")"
   ]
  },
  {
   "cell_type": "code",
   "execution_count": null,
   "metadata": {},
   "outputs": [],
   "source": [
    "# Query the vector database\n",
    "results = collection.query(\n",
    "    query_texts=[\"Digital Transformation for Sustainable and Resilient Food Systems\"],\n",
    "    n_results=5,\n",
    "    include=['documents', 'distances', 'metadatas']\n",
    ")"
   ]
  }
 ],
 "metadata": {
  "kernelspec": {
   "display_name": "Python 3",
   "language": "python",
   "name": "python3"
  },
  "language_info": {
   "codemirror_mode": {
    "name": "ipython",
    "version": 3
   },
   "file_extension": ".py",
   "mimetype": "text/x-python",
   "name": "python",
   "nbconvert_exporter": "python",
   "pygments_lexer": "ipython3",
   "version": "3.12.0"
  },
  "orig_nbformat": 4
 },
 "nbformat": 4,
 "nbformat_minor": 2
}
