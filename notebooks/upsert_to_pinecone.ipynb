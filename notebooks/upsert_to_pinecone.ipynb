{
 "cells": [
  {
   "cell_type": "code",
   "execution_count": null,
   "metadata": {},
   "outputs": [],
   "source": [
    "%pip install pinecone-client"
   ]
  },
  {
   "cell_type": "code",
   "execution_count": null,
   "metadata": {},
   "outputs": [],
   "source": [
    "import os\n",
    "from pinecone import Pinecone\n",
    "\n",
    "PINECONE_API_KEY = os.environ.get(\"PINECONE_API_KEY\")\n",
    "\n",
    "pc = Pinecone(api_key=PINECONE_API_KEY)\n",
    "index = pc.Index(\"horizon-projects\")\n",
    "\n",
    "index.describe_index_stats()"
   ]
  },
  {
   "cell_type": "code",
   "execution_count": null,
   "metadata": {},
   "outputs": [],
   "source": [
    "import csv\n",
    "\n",
    "ID_INDEX = 0\n",
    "TITLE_INDEX = 3\n",
    "OBJECTIVE_INDEX = 16\n",
    "VECTOR_INDEX = 20\n",
    "\n",
    "data = []\n",
    "\n",
    "with open('data/HORIZON_projects_with_embeddings.csv') as file:\n",
    "    lines = csv.reader(file, delimiter=\";\")\n",
    "    \n",
    "    documents = []\n",
    "    metadatas = []\n",
    "    ids = []\n",
    "    \n",
    "    for i, line in enumerate(lines):\n",
    "        if i== 0:\n",
    "            # Skip the first row (the column headers)\n",
    "            continue\n",
    "        \n",
    "        embeddings = [float(value) for value in line[VECTOR_INDEX].split(\",\")]\n",
    "        \n",
    "        data.append(\n",
    "            {\n",
    "                \"id\": line[ID_INDEX], \n",
    "                \"values\": embeddings,\n",
    "                \"metadata\": {\n",
    "                    \"title\": line[TITLE_INDEX],\n",
    "                    \"objective\": line[OBJECTIVE_INDEX],\n",
    "                    }\n",
    "            }\n",
    "        )"
   ]
  },
  {
   "cell_type": "code",
   "execution_count": null,
   "metadata": {},
   "outputs": [],
   "source": [
    "for i in range(0, len(data), 500):\n",
    "    index.upsert(data[i:i+500])"
   ]
  }
 ],
 "metadata": {
  "kernelspec": {
   "display_name": ".venv",
   "language": "python",
   "name": "python3"
  },
  "language_info": {
   "codemirror_mode": {
    "name": "ipython",
    "version": 3
   },
   "file_extension": ".py",
   "mimetype": "text/x-python",
   "name": "python",
   "nbconvert_exporter": "python",
   "pygments_lexer": "ipython3",
   "version": "3.12.0"
  }
 },
 "nbformat": 4,
 "nbformat_minor": 2
}
